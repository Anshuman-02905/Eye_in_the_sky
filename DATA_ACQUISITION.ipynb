{
  "nbformat": 4,
  "nbformat_minor": 0,
  "metadata": {
    "colab": {
      "name": "DATA_ACQUISITION.ipynb",
      "provenance": [],
      "collapsed_sections": [],
      "mount_file_id": "1pkJSBwx0KBIwNSfLFnJmzk5WOTF7a2wu",
      "authorship_tag": "ABX9TyPXmIXZa356RbO65nTWyBwk",
      "include_colab_link": true
    },
    "kernelspec": {
      "name": "python3",
      "display_name": "Python 3"
    },
    "language_info": {
      "name": "python"
    }
  },
  "cells": [
    {
      "cell_type": "markdown",
      "metadata": {
        "id": "view-in-github",
        "colab_type": "text"
      },
      "source": [
        "<a href=\"https://colab.research.google.com/github/Anshuman-02905/URBAN_MONITORING_SYSTEM/blob/main/DATA_ACQUISITION.ipynb\" target=\"_parent\"><img src=\"https://colab.research.google.com/assets/colab-badge.svg\" alt=\"Open In Colab\"/></a>"
      ]
    },
    {
      "cell_type": "code",
      "source": [
        "%%capture\n",
        "!pip install geemap\n",
        "!pip install geopandas\n",
        "!apt-get update\n",
        "!apt-get install libgdal-dev -y\n",
        "!apt-get install python-gdal -y\n",
        "!apt-get install python-numpy python-scipy -y"
      ],
      "metadata": {
        "id": "oxM-HMVBNJsX"
      },
      "execution_count": null,
      "outputs": []
    },
    {
      "cell_type": "code",
      "source": [
        "import json\n",
        "import geemap\n",
        "import os\n",
        "import glob\n",
        "import gdal ## fingers crossed!\n",
        "import os\n",
        "import ee\n",
        "import pandas as pd\n",
        "import numpy as np\n",
        "import math\n",
        "import geopandas as gpd\n",
        "import pandas as pd\n",
        "from shapely.geometry import Point, Polygon\n",
        "import folium"
      ],
      "metadata": {
        "id": "OKUBBgLdNJqa"
      },
      "execution_count": null,
      "outputs": []
    },
    {
      "cell_type": "code",
      "source": [
        "path = [\"/content/drive/MyDrive/DATASET1/Sentinel_png/\",\"/content/drive/MyDrive/DATASET1/Mask_png/\",\"/content/drive/MyDrive/DATASET1/Sentinel_tif/\",\n",
        "        \"/content/drive/MyDrive/DATASET1/Urban_tif/\"]\n",
        "for i in path:\n",
        "  if(os.path.exists(i)!=True):\n",
        "    os.mkdir(i)\n",
        "\n",
        "\n",
        "  \n",
        "# Getting the list of directories\n",
        "for i in path:\n",
        "  dir = os.listdir(i)  \n",
        "  # Checking if the list is empty or not\n",
        "  if len(dir) != 0:\n",
        "    files = glob.glob(i+\"*\")\n",
        "    for f in files:\n",
        "      pass\n",
        "      #os.remove(f)"
      ],
      "metadata": {
        "id": "EX2sLSk8NJoP"
      },
      "execution_count": null,
      "outputs": []
    },
    {
      "cell_type": "code",
      "source": [
        "Sentinel_png=\"/content/drive/MyDrive/DATASET1/Sentinel_png/\"\n",
        "urban_png=\"/content/drive/MyDrive/DATASET1/Mask_png/\"\n",
        "Sentinel_tif=\"/content/drive/MyDrive/DATASET1/Sentinel_tif/\"\n",
        "Mask_tif=\"/content/drive/MyDrive/DATASET1/Urban_tif/\"\n",
        "filename=\"/content/drive/MyDrive/DATASET1/ACTIVE_LOG.json\"  \n"
      ],
      "metadata": {
        "id": "5y8U0gyBNJmH"
      },
      "execution_count": null,
      "outputs": []
    },
    {
      "cell_type": "code",
      "source": [
        "try:\n",
        "    ee.Initialize()\n",
        "except Exception as e:\n",
        "    ee.Authenticate()\n",
        "    ee.Initialize()\n"
      ],
      "metadata": {
        "id": "ElFXI8cuNJj-",
        "colab": {
          "base_uri": "https://localhost:8080/"
        },
        "outputId": "2f7e001c-72a9-49a1-8a06-7ec6baea5788"
      },
      "execution_count": null,
      "outputs": [
        {
          "output_type": "stream",
          "name": "stdout",
          "text": [
            "To authorize access needed by Earth Engine, open the following URL in a web browser and follow the instructions. If the web browser does not start automatically, please manually browse the URL below.\n",
            "\n",
            "    https://accounts.google.com/o/oauth2/auth?client_id=517222506229-vsmmajv00ul0bs7p89v5m89qs8eb9359.apps.googleusercontent.com&scope=https%3A%2F%2Fwww.googleapis.com%2Fauth%2Fearthengine+https%3A%2F%2Fwww.googleapis.com%2Fauth%2Fdevstorage.full_control&redirect_uri=urn%3Aietf%3Awg%3Aoauth%3A2.0%3Aoob&response_type=code&code_challenge=EqmWeWor_Xe-JQBIZrV3ZdvrGY2DtLZcsneWcYTdV1A&code_challenge_method=S256\n",
            "\n",
            "The authorization workflow will generate a code, which you should paste in the box below. \n",
            "Enter verification code: 4/1AX4XfWjUB5yKwPyRnQPrb_NOI7fOydapJLwJx-cugvuv0FM0s2awwq2l-nI\n",
            "\n",
            "Successfully saved authorization token.\n"
          ]
        }
      ]
    },
    {
      "cell_type": "code",
      "source": [
        "def func(c):\n",
        "  try:\n",
        "    mine_shp=\"/content/newboundary.shp\"\n",
        "    mine = geemap.shp_to_ee(mine_shp) \n",
        "    Map=geemap.Map()\n",
        "    state = mine\n",
        "    #Map=geemap.Map()\n",
        "    #state = ee.FeatureCollection(\"FAO/GAUL/2015/level2\").filter(ee.Filter.eq('ADM2_NAME','Bangalore Urban'))\n",
        "    sentinel = ee.ImageCollection('COPERNICUS/S2_SR').select(['B4', 'B3', 'B2']) \\\n",
        "                  .filterDate('2017-01-01', '2020-01-30') \\\n",
        "                  .filter(ee.Filter.lt('CLOUDY_PIXEL_PERCENTAGE',5)) \\\n",
        "                  .filterBounds(state)\n",
        "    image = sentinel.mean().divide(10000).clip(state).select(['B4', 'B3', 'B2']).unmask()\n",
        "\n",
        "    visualization = {\n",
        "    'min': 0.0,\n",
        "    'max': 0.3,\n",
        "    'bands': ['B4', 'B3', 'B2'],\n",
        "    }\n",
        "    #Map.addLayer(image, visualization, 'RGB')\n",
        "\n",
        "    mask = ee.Image(\"DLR/WSF/WSF2015/v1\").clip(state)\n",
        "\n",
        "    visualization = {\n",
        "    'min': 0,\n",
        "    'max': 255,\n",
        "    }\n",
        "\n",
        "    #Map.addLayer(urban.clip(state), visualization, \"Human1\")\n",
        "    mask=mask.expression('b(\"settlement\") == 255 ? 255:0',{'settlement':mask.select('settlement')}).clip(state)\n",
        "\n",
        "    #Map.addLayer(mask, visualization, \"Human2\")\n",
        "    #Map.centerObject(image)\n",
        "    Sentinel=Sentinel_tif+str(c)+\".tif\"\n",
        "    urban=Mask_tif+str(c)+\".tif\"\n",
        "\n",
        "    geemap.ee_export_image(mask, filename=urban, scale=10, region=state.geometry(), file_per_band=False)\n",
        "    geemap.ee_export_image(image, filename=Sentinel, scale=10, region=state.geometry(), file_per_band=False)\n",
        "    Sentinel_mask=Sentinel_png+str(c)+\".png\"\n",
        "    Mask_mask=urban_png+str(c)+\".png\"\n",
        "    options_list = ['-ot Byte','-of PNG','-scale 0 0.3 0 255'] \n",
        "    options_string = \" \".join(options_list) \n",
        "    gdal.Translate(Sentinel_mask,Sentinel, options=options_string)\n",
        "    options_list = ['-ot Byte','-of PNG'] \n",
        "    options_string = \" \".join(options_list)\n",
        "    gdal.Translate(Mask_mask, urban, options=options_string)\n",
        "    xml1=Sentinel_mask+\".aux.xml\"\n",
        "    xml2=Mask_mask+\".aux.xml\"\n",
        "    os.remove(xml1)\n",
        "    os.remove(xml2)\n",
        "    os.remove(urban)\n",
        "    os.remove(Sentinel)\n",
        "    return 1\n",
        "  except Exception as e:\n",
        "    print(e)\n",
        "    print(\"Exception\")\n",
        "    return -1"
      ],
      "metadata": {
        "id": "ohkOHKIyNJfA"
      },
      "execution_count": null,
      "outputs": []
    },
    {
      "cell_type": "code",
      "source": [
        "def get_boundaries(final_list,c):\n",
        "  coordinates = final_list\n",
        "  def create_polygon(coords, polygon_name):\n",
        "    ''' Create a polygon from coordinates'''\n",
        "    polygon = Polygon(coordinates)\n",
        "    gdf = gpd.GeoDataFrame(crs = {'init' :'epsg:4326'})\n",
        "    gdf.loc[0,'name'] = polygon_name\n",
        "    gdf.loc[0, 'geometry'] = polygon\n",
        "    return gdf\n",
        "  shapefile = create_polygon(coordinates, \"Amesterdam\")\n",
        "  shapefile.to_file(\"newboundary.shp\")\n",
        "  mine_shp=\"/content/newboundary.shp\"\n",
        "  mine = geemap.shp_to_ee(mine_shp)\n",
        "  return func(c)\n",
        "  "
      ],
      "metadata": {
        "id": "MQxVt4MZNJc2"
      },
      "execution_count": null,
      "outputs": []
    },
    {
      "cell_type": "code",
      "source": [
        "def get_final_list(Lon,Lat):\n",
        "    LL=[Lon,Lat]\n",
        "    UL=[Lon,Lat+left_dist]\n",
        "    LR=[Lon+lower_dist,Lat]\n",
        "    UR=[Lon+lower_dist,Lat+left_dist]\n",
        "    final_list=[LL,LR,UR,UL,LL]\n",
        "    return final_list"
      ],
      "metadata": {
        "id": "xtNNc7eaObrf"
      },
      "execution_count": null,
      "outputs": []
    },
    {
      "cell_type": "code",
      "source": [
        "fl=[[72.72114537234593, 23.96269296245415], [72.86143323952895, 23.96269296245415], [72.86143323952895, 24.06607193151615], [72.72114537234593, 24.06607193151615], [72.72114537234593, 23.96269296245415]]"
      ],
      "metadata": {
        "id": "V4wpVyCKRtB2"
      },
      "execution_count": null,
      "outputs": []
    },
    {
      "cell_type": "code",
      "source": [
        "left_dist=0.1033789690619983\n",
        "right_dist=0.1033789690619983\n",
        "upper_dist=0.1402878671830234\n",
        "lower_dist=0.1402878671830234"
      ],
      "metadata": {
        "id": "IDpLS3ePNJan"
      },
      "execution_count": null,
      "outputs": []
    },
    {
      "cell_type": "code",
      "source": [
        "def update_error(c,final_list_string,error):\n",
        "  data=dict()\n",
        "  f = open(r\"/content/drive/MyDrive/DATASET1/LOG.txt\", \"a\")\n",
        "  f.write(\"EXCEPTION\"+str(c)+final_list_string+\"\\n\")\n",
        "  f.close()\n",
        "  error+=1\n",
        "  with open(filename) as json_file:\n",
        "   data = json.load(json_file)\n",
        "   data[\"Error_num\"]=error\n",
        "  with open(filename, 'w') as file_object:  #open the file in write mode\n",
        "   json.dump(data, file_object)\n",
        "   \n"
      ],
      "metadata": {
        "id": "x6i3jnORN8cV"
      },
      "execution_count": null,
      "outputs": []
    },
    {
      "cell_type": "code",
      "source": [
        "final_list_string = ' '.join([str(elem) for elem in fl])\n"
      ],
      "metadata": {
        "id": "Tzc3q7vySPsA"
      },
      "execution_count": null,
      "outputs": []
    },
    {
      "cell_type": "code",
      "source": [
        "#update_error(0,final_list_string,2)"
      ],
      "metadata": {
        "id": "uP5xbXsgSHW_"
      },
      "execution_count": null,
      "outputs": []
    },
    {
      "cell_type": "code",
      "source": [
        "final_list=list()\n",
        "count=0\n",
        "#cord=[0, 0]\n",
        "#cord=[23.96269296245415, 72.72114537234593]\n",
        "#cord=[25.409998529322145,72.72114537234593]\n",
        "#cord=[26.133651312756143,72.72114537234593]\n",
        "cord=[27.68433584868614,72.72114537234593]\n",
        "\n",
        "\n",
        "data=dict()\n",
        "with open(filename) as json_file:\n",
        "    data = json.load(json_file)\n",
        "Lat=data[\"Active_latitude\"]\n",
        "i=data[\"Active_I\"]\n",
        "error=data['Error_num']\n",
        "c=data[\"Lat_c\"]\n",
        "Lon=cord[1]\n",
        "\n",
        "for j in range(i,100):\n",
        "  Lon=cord[1]\n",
        "  data=dict()\n",
        "  with open(filename) as json_file:\n",
        "      data = json.load(json_file)\n",
        "  data[\"Active_latitude\"]=Lat\n",
        "  data[\"Lat_c\"]=c\n",
        "  data['Active_I']=j\n",
        "  with open(filename, 'w') as file_object:  #open the file in write mode\n",
        "   json.dump(data, file_object)\n",
        "\n",
        "  for j in range(0,100):\n",
        "    with open(filename) as json_file:\n",
        "     data = json.load(json_file)\n",
        "     error=data['Error_num']\n",
        "    print(\"Image_number\",c)\n",
        "    final_list=get_final_list(Lon,Lat)\n",
        "    final_list_string = ' '.join([str(elem) for elem in final_list])\n",
        "    num=str(c)\n",
        "    f = open(r\"/content/drive/MyDrive/DATASET1/LOG.txt\", \"a\")\n",
        "    f.write(num+\"\\n\"+final_list_string+\"\\n\")\n",
        "    f.close()\n",
        "\n",
        "    result=get_boundaries(final_list,c)\n",
        "\n",
        "    if result==-1:\n",
        "     update_error(c,final_list_string,error)\n",
        "\n",
        "    if result!=-1:\n",
        "      c+=1\n",
        "\n",
        "    path = [\"/content/drive/MyDrive/DATASET1/Sentinel_tif/\",\"/content/drive/MyDrive/DATASET1/Urban_tif/\"]\n",
        "\n",
        "    # Getting the list of directories\n",
        "    for i in path:\n",
        "      dir = os.listdir(i)  \n",
        "      # Checking if the list is empty or not\n",
        "      if len(dir) != 0:\n",
        "        files = glob.glob(i+\"*\")\n",
        "        for f in files:\n",
        "          os.remove(f)\n",
        "\n",
        "    Lon+=lower_dist\n",
        "  Lat+=left_dist"
      ],
      "metadata": {
        "id": "Vh0-BzlLNJWw",
        "colab": {
          "base_uri": "https://localhost:8080/",
          "height": 176
        },
        "outputId": "834b164c-04c6-45d2-90c5-bd6f114a6ecc"
      },
      "execution_count": null,
      "outputs": [
        {
          "output_type": "stream",
          "name": "stdout",
          "text": [
            "Generating URL ...\n",
            "Downloading data from https://earthengine.googleapis.com/v1alpha/projects/earthengine-legacy/thumbnails/bc9429e2db70dec3753379d5eb9874dc-810088a5fca1fe8c13bb6bb313228e50:getPixels\n",
            "Please wait ...\n",
            "Data downloaded to /content/drive/MyDrive/DATASET1/Urban_tif/5123.tif\n",
            "Generating URL ...\n",
            "Downloading data from https://earthengine.googleapis.com/v1alpha/projects/earthengine-legacy/thumbnails/0eeecaa3586b9014a90ee7a8e6d70424-bcfb9376b16fe2cb61ed22f9a349527f:getPixels\n",
            "Please wait ...\n",
            "Data downloaded to /content/drive/MyDrive/DATASET1/Sentinel_tif/5123.tif\n"
          ]
        }
      ]
    },
    {
      "cell_type": "code",
      "source": [
        ""
      ],
      "metadata": {
        "id": "qqSY4RuhNJRw"
      },
      "execution_count": null,
      "outputs": []
    },
    {
      "cell_type": "code",
      "source": [
        ""
      ],
      "metadata": {
        "id": "sX3Qt-ruNJMO"
      },
      "execution_count": null,
      "outputs": []
    },
    {
      "cell_type": "code",
      "execution_count": null,
      "metadata": {
        "id": "EkrceCLCLni0"
      },
      "outputs": [],
      "source": [
        "import json\n",
        "import os\n",
        "filename=\"/content/drive/MyDrive/DATASET1/ACTIVE_LOG.json\"  \n",
        "data=dict()\n",
        "with open(filename) as json_file:\n",
        "    data = json.load(json_file)\n",
        "Lat=data[\"Active_latitude\"]\n",
        "i=data[\"Active_I\"]\n",
        "error=data['Error_num']"
      ]
    },
    {
      "cell_type": "code",
      "source": [
        "print(i)"
      ],
      "metadata": {
        "colab": {
          "base_uri": "https://localhost:8080/"
        },
        "id": "fzVk4S-PMhvv",
        "outputId": "2030b140-9b47-4c9a-f8f7-08c83c922e1d"
      },
      "execution_count": null,
      "outputs": [
        {
          "output_type": "stream",
          "name": "stdout",
          "text": [
            "99\n"
          ]
        }
      ]
    },
    {
      "cell_type": "code",
      "source": [
        "print(c)"
      ],
      "metadata": {
        "colab": {
          "base_uri": "https://localhost:8080/"
        },
        "id": "-ht8gy7DM-gs",
        "outputId": "2dfbf1df-9be4-4155-bad4-7c8054cce6d5"
      },
      "execution_count": null,
      "outputs": [
        {
          "output_type": "stream",
          "name": "stdout",
          "text": [
            "9900\n"
          ]
        }
      ]
    },
    {
      "cell_type": "code",
      "source": [
        "print(23.96269296245415+9*0.1033789690619983)"
      ],
      "metadata": {
        "id": "Ny5jX0UBVD-D",
        "colab": {
          "base_uri": "https://localhost:8080/"
        },
        "outputId": "6a0e7686-d7ee-415e-f2d5-b28ac6ac077a"
      },
      "execution_count": null,
      "outputs": [
        {
          "output_type": "stream",
          "name": "stdout",
          "text": [
            "24.893103684012132\n"
          ]
        }
      ]
    },
    {
      "cell_type": "code",
      "source": [
        ""
      ],
      "metadata": {
        "id": "-Dq1T-rDHEvi"
      },
      "execution_count": null,
      "outputs": []
    }
  ]
}