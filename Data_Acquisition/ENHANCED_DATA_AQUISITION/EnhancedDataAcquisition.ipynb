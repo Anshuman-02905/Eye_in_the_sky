{
  "cells": [
    {
      "cell_type": "code",
      "execution_count": null,
      "metadata": {
        "id": "GcRQIm3MpcA1"
      },
      "outputs": [],
      "source": [
        ""
      ]
    },
    {
      "cell_type": "code",
      "execution_count": null,
      "metadata": {
        "id": "OKUBBgLdNJqa"
      },
      "outputs": [],
      "source": [
        "import json\n",
        "import geemap\n",
        "import os\n",
        "import glob\n",
        "import gdal ## fingers crossed!\n",
        "import os\n",
        "import ee\n",
        "import pandas as pd\n",
        "import numpy as np\n",
        "import math\n",
        "import geopandas as gpd\n",
        "import pandas as pd\n",
        "from shapely.geometry import Point, Polygon\n",
        "import folium\n",
        "import sys\n"
      ]
    },
    {
      "cell_type": "code",
      "execution_count": null,
      "metadata": {
        "id": "s10IZFEgix_v"
      },
      "outputs": [],
      "source": [
        "Map=geemap.Map()"
      ]
    },
    {
      "cell_type": "code",
      "execution_count": null,
      "metadata": {
        "id": "nqhXwN_2fcUg"
      },
      "outputs": [],
      "source": [
        "left_dist=0.1033789690619983\n",
        "right_dist=0.1033789690619983\n",
        "upper_dist=0.1402878671830234\n",
        "lower_dist=0.1402878671830234"
      ]
    },
    {
      "cell_type": "code",
      "execution_count": null,
      "metadata": {
        "id": "wP7KrQiRUZBY"
      },
      "outputs": [],
      "source": [
        "root=\"/content/drive/MyDrive/NEW_DATASET/\"\n",
        "Sentinel_tif=root+\"Sentinel_tif/\" \n",
        "Sentinel_png=root+\"Sentinel_png/\"\n",
        "urban_tif=root+\"Urban_tif/\"\n",
        "urban_png=root+\"Urban_png/\"\n",
        "temporal_png=root+\"Temporal_png/\"\n",
        "temporal_tif=root+\"Temporal_tif/\"\n",
        "filename=root+\"ACTIVE_LOG.json\"\n",
        "dirs=[root,Sentinel_tif,Sentinel_png,urban_tif,urban_png,temporal_tif,temporal_png]\n",
        "path = [Sentinel_tif,urban_tif,temporal_tif]\n",
        "\n",
        "for i in dirs:\n",
        "  if os.path.exists(i)==False:\n",
        "    os.mkdir(i)"
      ]
    },
    {
      "cell_type": "code",
      "execution_count": null,
      "metadata": {
        "id": "Cq5Oi6pvVaW0"
      },
      "outputs": [],
      "source": [
        "dir=[Sentinel_tif,Sentinel_png,urban_tif,urban_png,temporal_tif,temporal_png]\n",
        "for i in dir:\n",
        "  dir = os.listdir(i)  \n",
        "  # Checking if the list is empty or not\n",
        "  if len(dir) != 0:\n",
        "    files = glob.glob(i+\"*\")\n",
        "    for f in files:\n",
        "      #os.remove(f)"
      ]
    },
    {
      "cell_type": "code",
      "execution_count": null,
      "metadata": {
        "id": "sTNM3Nmw-esl"
      },
      "outputs": [],
      "source": [
        "def get_boundaries(final_list,c):\n",
        "  try:\n",
        "    coordinates = final_list\n",
        "    def create_polygon(coords, polygon_name):\n",
        "      ''' Create a polygon from coordinates'''\n",
        "      polygon = Polygon(coordinates)\n",
        "      gdf = gpd.GeoDataFrame(crs = {'init' :'epsg:4326'})\n",
        "      gdf.loc[0,'name'] = polygon_name\n",
        "      gdf.loc [0, 'geometry'] = polygon\n",
        "      return gdf\n",
        "    shapefile = create_polygon(coordinates, \"ROI\")\n",
        "    shapefile.to_file(\"newboundary.shp\")\n",
        "    roi_shp=\"/content/newboundary.shp\"\n",
        "    roi_shp = geemap.shp_to_ee(roi_shp)\n",
        "    return get_image(roi_shp,c)\n",
        "  except Exception as e:\n",
        "    print(e)\n",
        "    return -1"
      ]
    },
    {
      "cell_type": "code",
      "execution_count": null,
      "metadata": {
        "id": "hkhdr_3xL8tT"
      },
      "outputs": [],
      "source": [
        "def update_error(c,final_list_string,error):\n",
        "  data=dict()\n",
        "  log_p=r\"/content/drive/MyDrive/NEW_DATASET/LOG.txt\"\n",
        "  error_p=r\"/content/drive/MyDrive/NEW_DATASET/Error.txt\"\n",
        "\n",
        "  f = open(log_p, \"a\")\n",
        "  f.write(\"EXCEPTION\"+str(c)+final_list_string+\"\\n\")\n",
        "  f.close()\n",
        "  error+=1\n",
        "  with open(filename) as json_file:\n",
        "   data = json.load(json_file)\n",
        "   data[\"Error_num\"]=error\n",
        "  with open(filename, 'w') as file_object:  #open the file in write mode\n",
        "   json.dump(data, file_object)\n",
        "  \n",
        "  f = open(error_p, \"a\")\n",
        "  f.write(\"EXCEPTION\"+str(c)+final_list_string+\"\\n\")\n",
        "  f.close()"
      ]
    },
    {
      "cell_type": "code",
      "execution_count": null,
      "metadata": {
        "id": "yEORP72wpr2k"
      },
      "outputs": [],
      "source": [
        "def get_image(roi,c):\n",
        "  try:\n",
        "    sentinel = ee.ImageCollection('COPERNICUS/S2_SR').select(['B2','B4', 'B3', 'B11','B8']) \\\n",
        "                  .filterDate('2017-01-01', '2020-01-30') \\\n",
        "                  .filter(ee.Filter.lt('CLOUDY_PIXEL_PERCENTAGE',5)) \\\n",
        "                  .filterBounds(roi).mean()\n",
        "    sentinel_rgb = sentinel.divide(10000).clip(roi).select(['B4', 'B3', 'B2']).unmask()\n",
        "    visualization_rgb = {\n",
        "    'min': 0.0,\n",
        "    'max': 0.3,\n",
        "    'bands': ['B4', 'B3', 'B2'],\n",
        "    }\n",
        "    #Map.addLayer(sentinel_rgb.clip(roi), visualization_rgb, 'RGB')\n",
        "    Map.centerObject(roi)\n",
        "    mask = ee.Image(\"DLR/WSF/WSF2015/v1\").clip(roi)\n",
        "    visualization_mask = {\n",
        "    'min': 0,\n",
        "    'max': 255, \n",
        "    }\n",
        "    mask=mask.expression('b(\"settlement\") == 255 ? 255:0',{'settlement':mask.select('settlement')}).clip(roi)\n",
        "    #Map.addLayer(mask.clip(roi), visualization_mask, \"Human2\")\n",
        "\n",
        "\n",
        "\n",
        "    NDVI = sentinel.normalizedDifference(['B8', 'B4']).rename(['NDVI']);\n",
        "    MNDWI = sentinel.normalizedDifference(['B3', 'B11']).rename(['MNDWI']); \n",
        "    NDBI = sentinel.normalizedDifference(['B11', 'B8']).rename(['NDBI'])\n",
        "    sentinel=sentinel.addBands(NDBI).addBands(MNDWI).addBands(NDVI)\n",
        "    image_temporal_mean=sentinel.clip(roi).select(['NDVI','NDBI','MNDWI']).unmask()\n",
        "    temporal_mean_vis={'bands':['NDBI','NDVI','MNDWI'],'min':-1,'max':1}\n",
        "    #Map.addLayer(image_temporal_mean.clip(roi), temporal_mean_vis, \"Temporal_mean Color\")\n",
        "    return download_image(sentinel_rgb,mask,image_temporal_mean,roi,c)\n",
        "  except Exception as e:\n",
        "    print(\"Error in get_image\")\n",
        "    print(e)\n",
        "    return -1"
      ]
    },
    {
      "cell_type": "code",
      "execution_count": null,
      "metadata": {
        "id": "Rebvl-xzPWCy"
      },
      "outputs": [],
      "source": [
        "def get_final_list(Lon,Lat):\n",
        "  try:\n",
        "    LL=[Lon,Lat]\n",
        "    UL=[Lon,Lat+left_dist]\n",
        "    LR=[Lon+lower_dist,Lat]\n",
        "    UR=[Lon+lower_dist,Lat+left_dist]\n",
        "    final_list=[LL,LR,UR,UL,LL]\n",
        "    return final_list\n",
        "  except Exception as e: \n",
        "    print(e)\n",
        "    print(\"Error in get_final_list Image\")\n",
        "    return -1"
      ]
    },
    {
      "cell_type": "code",
      "execution_count": null,
      "metadata": {
        "id": "3szwrVrG6ZIY"
      },
      "outputs": [],
      "source": [
        "def download_image(RGB,MASK,TEMPORAL,roi,c):\n",
        "    try:\n",
        "      urban=urban_tif+str(c)+\".tif\"\n",
        "      rgb=Sentinel_tif+str(c)+\".tif\"\n",
        "      temporal=temporal_tif+str(c)+\".tif\"\n",
        "      geemap.ee_export_image(MASK, filename=urban, scale=10, region=roi.geometry(), file_per_band=False)\n",
        "      geemap.ee_export_image(RGB, filename=rgb, scale=10, region=roi.geometry(), file_per_band=False)\n",
        "      geemap.ee_export_image(TEMPORAL, filename=temporal, scale=10, region=roi.geometry(), file_per_band=False)\n",
        "      return convert_image(c)\n",
        "    except Exception as e: \n",
        "      print(e)\n",
        "      print(\"Error in download_image Image\")\n",
        "      return -1\n",
        "    \n",
        "\n",
        "    "
      ]
    },
    {
      "cell_type": "code",
      "execution_count": null,
      "metadata": {
        "id": "CQVXvAMb9atE"
      },
      "outputs": [],
      "source": [
        "def convert_image(c):\n",
        "  try:\n",
        "    urban=urban_tif+str(c)+\".tif\"\n",
        "    rgb=Sentinel_tif+str(c)+\".tif\"\n",
        "    temporal=temporal_tif+str(c)+\".tif\"\n",
        "    urban_download=urban_png+str(c)+\".png\"\n",
        "    rgb_download=Sentinel_png+str(c)+\".png\"\n",
        "    temporal_download=temporal_png+str(c)+\".png\"\n",
        "    options_list_3band = ['-ot Byte','-of PNG','-scale 0 0.3 0 255'] \n",
        "    options_list_tempband = ['-ot Byte','-of PNG','-scale -0.6 0.6 0 255'] \n",
        "\n",
        "    options_list_1band = ['-ot Byte','-of PNG']\n",
        "    options_string_RGB = \" \".join(options_list_3band)\n",
        "    options_string_temp=\" \".join(options_list_tempband)\n",
        "    options_string = \" \".join(options_list_1band)\n",
        "\n",
        "    gdal.Translate(urban_download,urban, options=options_string)\n",
        "    gdal.Translate(rgb_download,rgb, options=options_string_RGB)\n",
        "    gdal.Translate(temporal_download,temporal, options=options_string_temp)\n",
        "    xml1=urban_download+\".aux.xml\"\n",
        "    xml2=rgb_download+\".aux.xml\"\n",
        "    xml3=temporal_download+\".aux.xml\"\n",
        "\n",
        "    os.remove(xml1)\n",
        "    os.remove(xml2)\n",
        "    os.remove(xml3)\n",
        "    os.remove(urban)\n",
        "    os.remove(rgb)\n",
        "    os.remove(temporal)\n",
        "    return 1\n",
        "  except Exception as e:\n",
        "    print(e)\n",
        "    print(\"error in Convert\")\n",
        "    return -1"
      ]
    },
    {
      "cell_type": "code",
      "execution_count": null,
      "metadata": {
        "id": "V4okakOm1YgJ"
      },
      "outputs": [],
      "source": [
        "final_list=list()\n",
        "count=0\n",
        "result=1\n",
        "\n",
        "#cord=[23.96269296245415, 72.72114537234593]\n",
        "cord=[23.96269296245415, 72.72114537234593]\n",
        "\n",
        "\n",
        "\n",
        "data=dict()\n",
        "\n",
        "with open(filename) as json_file:\n",
        "    data = json.load(json_file)\n",
        "Lat=data[\"Active_latitude\"]\n",
        "i=data[\"Active_I\"]\n",
        "error=data['Error_num']\n",
        "c=data[\"Lat_c\"]\n",
        "Lon=cord[1]\n",
        "\n",
        "for j in range(i,100):\n",
        "  Lon=cord[1]\n",
        "  data=dict()\n",
        "  with open(filename) as json_file:\n",
        "      data = json.load(json_file)\n",
        "  data[\"Active_latitude\"]=Lat\n",
        "  data[\"Lat_c\"]=c\n",
        "  data['Active_I']=j\n",
        "  with open(filename, 'w') as file_object:  #open the file in write mode\n",
        "   json.dump(data, file_object)\n",
        "\n",
        "  for k in range(0,100):\n",
        "    print(Lon,Lat)\n",
        "    with open(filename) as json_file:\n",
        "     data = json.load(json_file)\n",
        "     error=data['Error_num']\n",
        "    print(\"Image_number\",c)\n",
        "    final_list=get_final_list(Lon,Lat)\n",
        "    final_list_string = ' '.join([str(elem) for elem in final_list])\n",
        "    num=str(c)\n",
        "    f = open(r\"/content/drive/MyDrive/NEW_DATASET/LOG.txt\", \"a\")\n",
        "    f.write(num+\"\\n\"+final_list_string+\"\\n\")\n",
        "    f.close()\n",
        "    print(final_list)\n",
        "    result=get_boundaries(final_list,c)\n",
        "    #result=1\n",
        "    #result=result*-1\n",
        "    if result==-1: \n",
        "     update_error(c,final_list_string,error)\n",
        "\n",
        "    if result!=-1:\n",
        "      c+=1\n",
        "\n",
        "\n",
        "    # Getting the list of directories\n",
        "    for i in path:\n",
        "      dir = os.listdir(i)  \n",
        "      # Checking if the list is empty or not\n",
        "      if len(dir) != 0:\n",
        "        files = glob.glob(i+\"*\")\n",
        "        for f in files:\n",
        "          os.remove(f)\n",
        "\n",
        "    Lon+=lower_dist\n",
        "  Lat+=left_dist"
      ]
    }
  ],
  "metadata": {
    "colab": {
      "collapsed_sections": [],
      "name": "EnhancedDataAcquisition.ipynb",
      "provenance": []
    },
    "kernelspec": {
      "display_name": "Python 3",
      "name": "python3"
    },
    "language_info": {
      "name": "python"
    }
  },
  "nbformat": 4,
  "nbformat_minor": 0
}